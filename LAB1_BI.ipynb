{
  "nbformat": 4,
  "nbformat_minor": 0,
  "metadata": {
    "colab": {
      "provenance": [],
      "authorship_tag": "ABX9TyONVvUQT7V+iJTcr82GesNr",
      "include_colab_link": true
    },
    "kernelspec": {
      "name": "python3",
      "display_name": "Python 3"
    },
    "language_info": {
      "name": "python"
    }
  },
  "cells": [
    {
      "cell_type": "markdown",
      "metadata": {
        "id": "view-in-github",
        "colab_type": "text"
      },
      "source": [
        "<a href=\"https://colab.research.google.com/github/Felipe34515/Trabajos-BI/blob/main/LAB1_BI.ipynb\" target=\"_parent\"><img src=\"https://colab.research.google.com/assets/colab-badge.svg\" alt=\"Open In Colab\"/></a>"
      ]
    },
    {
      "cell_type": "markdown",
      "source": [
        "# **LABORATORIO 1 - INTELIGENCIA DE NEGOCIOS**\n",
        "\n",
        "Santiago Pardo - 202013025\n",
        "\n",
        "\n",
        "\n",
        "Luis Plazas - 202013155\n",
        "\n",
        "\n",
        "\n",
        "\n",
        "Felipe Rueda - 202010903"
      ],
      "metadata": {
        "id": "jMBZnjzPAsmD"
      }
    },
    {
      "cell_type": "markdown",
      "source": [
        "## DESCRIPCIÓN DEL PROBLEMA\n",
        "\n",
        "### Contexto\n",
        "\n"
      ],
      "metadata": {
        "id": "JHzooxcAHYs8"
      }
    },
    {
      "cell_type": "markdown",
      "source": [
        "En el vasto panorama del mundo empresarial, la comprensión profunda de los clientes es la clave para el éxito sostenible. La segmentación de clientes emerge como una poderosa herramienta estratégica que redefine la forma en que las empresas abordan sus mercados. Este proceso implica la división cuidadosa y deliberada de la base de clientes en grupos homogéneos, con características y comportamientos similares. La segmentación de clientes va más allá de la simple categorización; es la llave maestra que desbloquea el potencial de la personalización. Al centrarse en las similitudes y preferencias compartidas dentro de cada segmento, las empresas pueden anticipar las necesidades de sus clientes, crear mensajes más efectivos y diseñar productos y servicios que resuenen con precisión.\n",
        "\n",
        "\n",
        "\n",
        "AlpesInsight, es una empresa pionera en la intersección de servicios financieros y tecnología. En su búsqueda constante para ofrecer experiencias personalizadas y seguras a sus clientes, AlpesInsight está expandiendo su equipo con la incorporación de expertos en aprendizaje automático para enfrentar el desafío de aprovechar datos de transacciones con tarjetas de crédito para comprender los patrones de comportamiento y preferencias de los clientes. AlpesInsight se esfuerza por desarrollar soluciones innovadoras que permitan personalizar ofertas financieras y servicios, mejorando así la satisfacción del cliente y fortaleciendo la seguridad de las transacciones. El equipo ha dedicido utilizar técnicas de agrupación para resolver este reto\n",
        "\n"
      ],
      "metadata": {
        "id": "M2iQhpasLFQ1"
      }
    },
    {
      "cell_type": "markdown",
      "source": [
        "### Diccionario de los Datos (En Inglés)\n",
        "\n",
        "\n",
        "\n",
        "| Atributo                         | Significado                                                                                                                   |\n",
        "| -------------------------------- | ----------------------------------------------------------------------------------------------------------------------------- |\n",
        "| CUST_ID                          | Credit card holder ID                                                                                                         |\n",
        "| BALANCE                          | Monthly average balance (based on daily balance averages)                                                                     |\n",
        "| BALANCE_FREQUENCY                | Ratio of last 12 months with balance. (1: Frequently updated, 0: Not frequently updated)                                      |\n",
        "| PURCHASES                        | Total purchase amount spent during last 12 months                                                                             |\n",
        "| ONEOFF_PURCHASES                 | Total amount of one-off purchases                                                                                             |\n",
        "| INSTALLMENTS_PURCHASES           | Total amount of installment purchases                                                                                         |\n",
        "| CASH_ADVANCE                     | Total cash-advance amount                                                                                                     |\n",
        "| PURCHASES_FREQUENCY              | Frequency of purchases (Percent of months with at least one purchase). (1: Frequently purchased, 0: Not frequently purchased) |\n",
        "| ONEOFF_PURCHASES_FREQUENCY       | Frequency of one-off-purchases. (1: Frequently purchased, 0: Not frequently purchased)                                        |\n",
        "| PURCHASES_INSTALLMENTS_FREQUENCY | Frequency of installment purchases. (1: Frequently purchased, 0: Not frequently purchased)                                    |\n",
        "| CASHADVANCE_FREQUENCY            | Cash-Advance frequency                                                                                                        |\n",
        "| CASH_ADVANCE_TRX                 | Average amount per cash-advance transaction                                                                                   |\n",
        "| PURCHASES_TRX                    | Average amount per purchase transaction                                                                                       |\n",
        "| CREDIT_LIMIT                     | Credit limit                                                                                                                  |\n",
        "| PAYMENTS                         | Total payments (Due amount paid by the customer to decrease their statement balance) in the period                            |\n",
        "| MINIMUM_PAYMENTS                 | Total minimum payments due in the period                                                                                      |\n",
        "| PRC_FULL_PAYMEN                  | Percentage of months with full payment of the due statement balance                                                           |\n",
        "| TENURE                           | Number of months as a customer                                                                                                |"
      ],
      "metadata": {
        "id": "7MedQOzgLx_m"
      }
    },
    {
      "cell_type": "markdown",
      "source": [
        "## ENTENDIMIENTO DE LOS DATOS\n",
        "\n",
        "(Aquí pegas el tablero de control)"
      ],
      "metadata": {
        "id": "zCn7eS7ZMhCe"
      }
    }
  ]
}