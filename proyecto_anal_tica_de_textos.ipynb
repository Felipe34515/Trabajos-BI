{
  "nbformat": 4,
  "nbformat_minor": 0,
  "metadata": {
    "colab": {
      "provenance": [],
      "authorship_tag": "ABX9TyOjOR9Ej8XX18glsaMXyKir",
      "include_colab_link": true
    },
    "kernelspec": {
      "name": "python3",
      "display_name": "Python 3"
    },
    "language_info": {
      "name": "python"
    }
  },
  "cells": [
    {
      "cell_type": "markdown",
      "metadata": {
        "id": "view-in-github",
        "colab_type": "text"
      },
      "source": [
        "<a href=\"https://colab.research.google.com/github/Felipe34515/Trabajos-BI/blob/main/proyecto_anal_tica_de_textos.ipynb\" target=\"_parent\"><img src=\"https://colab.research.google.com/assets/colab-badge.svg\" alt=\"Open In Colab\"/></a>"
      ]
    },
    {
      "cell_type": "markdown",
      "source": [
        "# **Proyecto Analítica de textos**\n",
        "\n",
        "## Integrantes:\n",
        "- Felipe Rueda Rivera (202010903)\n",
        "\n",
        "\n"
      ],
      "metadata": {
        "id": "GNE6MXpx7Fz3"
      }
    },
    {
      "cell_type": "markdown",
      "source": [
        "# **(10%) Entendimiento del negocio y enfoque analítico.**\n",
        "\n",
        "## Contexto:\n",
        "\n",
        "El Ministerio de Comercio, Industria y Turismo de Colombia, la Asociación Hotelera y\n",
        "Turística de Colombia – COTELCO, cadenas hoteleras de la talla de Hilton, Hoteles Estelar,\n",
        "Holiday Inn y hoteles pequeños ubicados en diferentes municipios de Colombia están\n",
        "interesados en analizar las características de sitios turísticos que los hacen atractivos para\n",
        "turistas locales o de otros países, ya sea para ir a conocerlos o recomendarlos. De igual\n",
        "manera, quieren comparar las características de dichos sitios, con aquellos que han\n",
        "obtenido bajas recomendaciones y que están afectando el número de turistas que llegan a\n",
        "ellos. Adicionalmente, quieren tener un mecanismo para determinar la calificación que\n",
        "tendrá un sitio por parte de los turistas y así, por ejemplo, aplicar estrategias para identificar\n",
        "oportunidades de mejora que permitan aumentar la popularidad de los sitios y fomentar el\n",
        "turismo.\n",
        "Esos actores de turismo prepararon dos conjuntos de datos con reseñas de sitios turísticos.\n",
        "Cada reseña tiene una calificación según el sentimiento que tuvo el turista al visitarlo. Estos\n",
        "actores quieren lograr un análisis independiente de los conjuntos de datos y al final del\n",
        "proyecto discutir sobre los grupos de científicos de datos e ingenieros de datos que\n",
        "acompañarán el desarrollo real de este proyecto.\n"
      ],
      "metadata": {
        "id": "B9lrglpj7wNP"
      }
    },
    {
      "cell_type": "markdown",
      "source": [
        "# **(20%) Entendimiento y preparación de los datos.**"
      ],
      "metadata": {
        "id": "aC62kFgk8Dk-"
      }
    },
    {
      "cell_type": "markdown",
      "source": [
        "# **(20%) Modelado y evaluación.**"
      ],
      "metadata": {
        "id": "aux1yMGv8Geu"
      }
    },
    {
      "cell_type": "markdown",
      "source": [
        "# **(20%) Resultados.**"
      ],
      "metadata": {
        "id": "4aaoOCwi8Hj2"
      }
    },
    {
      "cell_type": "markdown",
      "source": [
        "# **(10%) Mapa de actores relacionado con el producto de datos creado.**"
      ],
      "metadata": {
        "id": "_DF3T8Cz8XJZ"
      }
    },
    {
      "cell_type": "markdown",
      "source": [
        "# **(8%) Trabajo en equipo**"
      ],
      "metadata": {
        "id": "A4LZS8Rp8a_p"
      }
    },
    {
      "cell_type": "markdown",
      "source": [],
      "metadata": {
        "id": "6I6GF1I78I2h"
      }
    },
    {
      "cell_type": "code",
      "execution_count": null,
      "metadata": {
        "id": "7BU0_Q2866tW"
      },
      "outputs": [],
      "source": []
    }
  ]
}